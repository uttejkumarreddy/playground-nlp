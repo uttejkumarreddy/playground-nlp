{
 "cells": [
  {
   "cell_type": "code",
   "execution_count": 5,
   "metadata": {},
   "outputs": [],
   "source": [
    "import re\n",
    "from collections import defaultdict\n",
    "\n",
    "from __future__ import absolute_import\n",
    "from __future__ import division, print_function, unicode_literals\n",
    " \n",
    "from sumy.parsers.plaintext import PlaintextParser\n",
    "from sumy.nlp.tokenizers import Tokenizer\n",
    "from sumy.summarizers.lsa import LsaSummarizer\n",
    "from sumy.nlp.stemmers import Stemmer\n",
    "from sumy.utils import get_stop_words\n",
    " \n",
    "from sumy.summarizers.luhn import LuhnSummarizer\n",
    "from sumy.summarizers.edmundson import EdmundsonSummarizer\n",
    "\n",
    "from nltk.corpus import stopwords\n",
    "stop_words = stopwords.words('english')"
   ]
  },
  {
   "cell_type": "code",
   "execution_count": 2,
   "metadata": {},
   "outputs": [],
   "source": [
    "pathToText = 'data\\harry-potter-and-the-philosophers-stone\\chapter-1.txt'"
   ]
  },
  {
   "cell_type": "code",
   "execution_count": 3,
   "metadata": {},
   "outputs": [],
   "source": [
    "with open(pathToText, 'r') as f:\n",
    "  text = f.read()"
   ]
  },
  {
   "cell_type": "code",
   "execution_count": 10,
   "metadata": {},
   "outputs": [],
   "source": [
    "language = 'english'\n",
    "parser = PlaintextParser(text, Tokenizer(language))"
   ]
  },
  {
   "cell_type": "code",
   "execution_count": 9,
   "metadata": {},
   "outputs": [],
   "source": [
    "summarizationSentenceCount = 5"
   ]
  },
  {
   "cell_type": "code",
   "execution_count": 12,
   "metadata": {},
   "outputs": [
    {
     "name": "stdout",
     "output_type": "stream",
     "text": [
      "I didn't want to believe it.\n",
      "But he couldn't.\n",
      "\"You don't mean - you can't mean the people who live here ?\"\n",
      "\"Couldn't you do something about it, Dumbledore?\"\n",
      "\"Even if I could, I wouldn't.\n"
     ]
    }
   ],
   "source": [
    "from sumy.summarizers.lex_rank import LexRankSummarizer \n",
    "\n",
    "summarizer_lexrank = LexRankSummarizer(Stemmer(language))\n",
    "summarizer_lexrank.stop_words = get_stop_words(language)\n",
    "\n",
    "summary_lexrank = summarizer_lexrank(parser.document, summarizationSentenceCount) \n",
    "for sentence in summary:\n",
    "    print(sentence)"
   ]
  },
  {
   "cell_type": "code",
   "execution_count": 13,
   "metadata": {},
   "outputs": [
    {
     "name": "stdout",
     "output_type": "stream",
     "text": [
      "It was now reading the sign that said Privet Drive -- no, looking at the sign; cats couldn't read maps or signs.\n",
      "No one knows why, or how, but they're saying that when he couldn't kill Harry Potter, Voldemort's power somehow broke -- and that's why he's gone. \"\n",
      "\"Yes, yes, it's all very sad, but get a grip on yourself, Hagrid, or we'll be found,\" Professor McGonagall whispered, patting Hagrid gingerly on the arm as Dumbledore stepped over the low garden wall and walked to the front door.\n",
      "For a full minute the three of them stood and looked at the little bundle; Hagrid's shoulders shook, Professor McGonagall blinked furiously, and the twinkling light that usually shone from Dumbledore's eyes seemed to have gone out.\n",
      "He clicked it once, and twelve balls of light sped back to their street lamps so that Privet Drive glowed suddenly orange and he could make out a tabby cat slinking around the corner at the other end of the street.\n"
     ]
    }
   ],
   "source": [
    "from sumy.summarizers.luhn import LuhnSummarizer\n",
    "\n",
    "summarizer_luhn = LuhnSummarizer(Stemmer(language))\n",
    "summarizer_luhn.stop_words = get_stop_words(language)\n",
    "summary_luhn = summarizer_luhn(parser.document, summarizationSentenceCount)\n",
    "for sentence in summary_luhn:\n",
    "    print(sentence)"
   ]
  },
  {
   "cell_type": "code",
   "execution_count": 15,
   "metadata": {},
   "outputs": [
    {
     "name": "stdout",
     "output_type": "stream",
     "text": [
      "He dashed back across the road, hurried up to his office, snapped at his secretary not to disturb him, seized his telephone, and had almost finished dialing his home number when he changed his mind.\n",
      "It seemed that Professor McGonagall had reached the point she was most anxious to discuss, the real reason she had been waiting on a cold, hard wall all day, for neither as a cat nor as a woman had she fixed Dumbledore with such a piercing stare as she did now.\n",
      "He looked simply too big to be allowed, and so wild -- long tangles of bushy black hair and beard hid most of his face, he had hands the size of trash can lids, and his feet in their leather boots were like baby dolphins.\n",
      "For a full minute the three of them stood and looked at the little bundle; Hagrid's shoulders shook, Professor McGonagall blinked furiously, and the twinkling light that usually shone from Dumbledore's eyes seemed to have gone out.\n",
      "A breeze ruffled the neat hedges of Privet Drive, which lay silent and tidy under the inky sky, the very last place you would expect astonishing things to happen.\n"
     ]
    }
   ],
   "source": [
    "from sumy.summarizers.lsa import LsaSummarizer\n",
    "\n",
    "summarizer_lsa = LsaSummarizer(Stemmer(language))\n",
    "summarizer_lsa.stop_words = get_stop_words(language)\n",
    "summary_lsa = summarizer_lsa(parser.document, summarizationSentenceCount)\n",
    "for sentence in summary_lsa:\n",
    "    print(sentence)"
   ]
  },
  {
   "cell_type": "code",
   "execution_count": 17,
   "metadata": {},
   "outputs": [
    {
     "name": "stdout",
     "output_type": "stream",
     "text": [
      "Mrs. Potter was Mrs. Dursley's sister, but they hadn't met for several years; in fact, Mrs. Dursley pretended she didn't have a sister, because her sister and her good-for-nothing husband were as unDursleyish as it was possible to be.\n",
      "Mr. Dursley couldn't bear people who dressed in funny clothes -- the getups you saw on young people!\n",
      "\"You don't mean - you can't mean the people who live here ?\"\n",
      "\"I'm not saying his heart isn't in the right place,\" said Professor McGonagall grudgingly, \"but you can't pretend he's not careless.\n",
      "\"Couldn't you do something about it, Dumbledore?\"\n"
     ]
    }
   ],
   "source": [
    "from sumy.summarizers.text_rank import TextRankSummarizer\n",
    "\n",
    "summarizer_textrank = TextRankSummarizer(Stemmer(language))\n",
    "summarizer_textrank.stop_words = get_stop_words(language)\n",
    "summary_textrank = summarizer_textrank(parser.document, summarizationSentenceCount)\n",
    "for sentence in summary_textrank:\n",
    "    print(sentence)"
   ]
  }
 ],
 "metadata": {
  "kernelspec": {
   "display_name": "Python 3.10.5 64-bit",
   "language": "python",
   "name": "python3"
  },
  "language_info": {
   "codemirror_mode": {
    "name": "ipython",
    "version": 3
   },
   "file_extension": ".py",
   "mimetype": "text/x-python",
   "name": "python",
   "nbconvert_exporter": "python",
   "pygments_lexer": "ipython3",
   "version": "3.10.5"
  },
  "orig_nbformat": 4,
  "vscode": {
   "interpreter": {
    "hash": "c94757ff29ceb470eea80031cf49c1ba172ca6bb9dbd9f7a246a03d4ec082395"
   }
  }
 },
 "nbformat": 4,
 "nbformat_minor": 2
}
