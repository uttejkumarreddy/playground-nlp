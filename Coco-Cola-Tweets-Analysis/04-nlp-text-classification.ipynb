{
 "cells": [
  {
   "cell_type": "code",
   "execution_count": 1,
   "metadata": {},
   "outputs": [],
   "source": [
    "import pandas as pd\n",
    "from sklearn.model_selection import train_test_split\n",
    "from sklearn.feature_extraction.text import TfidfVectorizer\n",
    "import numpy as np\n",
    "import pickle"
   ]
  },
  {
   "cell_type": "code",
   "execution_count": 2,
   "metadata": {},
   "outputs": [],
   "source": [
    "df = pd.read_excel('03-data-labelling.xlsx')\n",
    "\n",
    "training_data, testing_data = train_test_split(df, random_state=2000)\n",
    "\n",
    "Y_train = training_data['Advertisement'].values\n",
    "Y_test = testing_data['Advertisement'].values\n"
   ]
  },
  {
   "cell_type": "code",
   "execution_count": 3,
   "metadata": {},
   "outputs": [],
   "source": [
    "def extract_features(df, field, training_data, testing_data):\n",
    "    # TF-IDF BASED FEATURE REPRESENTATION\n",
    "    tfidf_vectorizer = TfidfVectorizer(use_idf = True, max_df = 0.95)\n",
    "    tfidf_vectorizer.fit_transform(training_data[field].values.astype('U'))\n",
    "\n",
    "    train_feature_set = tfidf_vectorizer.transform(training_data[field].values.astype('U'))\n",
    "    test_feature_set = tfidf_vectorizer.transform(testing_data[field].values.astype('U'))\n",
    "\n",
    "    return train_feature_set, test_feature_set, tfidf_vectorizer\n",
    "\n",
    "X_train, X_test, vectorizer = extract_features(\n",
    "    df, 'Tweets', training_data, testing_data)\n"
   ]
  },
  {
   "cell_type": "code",
   "execution_count": 4,
   "metadata": {},
   "outputs": [
    {
     "name": "stdout",
     "output_type": "stream",
     "text": [
      "[LibLinear]0.704\n"
     ]
    }
   ],
   "source": [
    "from sklearn.linear_model import LogisticRegression\n",
    "\n",
    "logisticReg = LogisticRegression(\n",
    "    verbose = 1,\n",
    "    solver = 'liblinear',\n",
    "    random_state = 0,\n",
    "    C = 5,\n",
    "    penalty = 'l2',\n",
    "    max_iter = 1000\n",
    "    )\n",
    "model = logisticReg.fit(X_train, Y_train)\n",
    "\n",
    "logisticRegScore = model.score(X_test, Y_test)\n",
    "print (logisticRegScore)\n"
   ]
  },
  {
   "cell_type": "code",
   "execution_count": 5,
   "metadata": {},
   "outputs": [
    {
     "name": "stdout",
     "output_type": "stream",
     "text": [
      "0.72\n"
     ]
    }
   ],
   "source": [
    "from sklearn.naive_bayes import MultinomialNB\n",
    "\n",
    "naiveBayesModel = MultinomialNB().fit(X_train, Y_train)\n",
    "\n",
    "naiveBayesScore = naiveBayesModel.score(X_test, Y_test)\n",
    "print (naiveBayesScore)"
   ]
  },
  {
   "cell_type": "code",
   "execution_count": 6,
   "metadata": {},
   "outputs": [],
   "source": [
    "# Save model\n",
    "filename = 'model.sav'\n",
    "pickle.dump(naiveBayesModel, open(filename, 'wb'))\n",
    "\n",
    "# Save vectorizer\n",
    "pickle.dump(vectorizer, open(\"vectorizer.pickle\", \"wb\"))"
   ]
  }
 ],
 "metadata": {
  "interpreter": {
   "hash": "c94757ff29ceb470eea80031cf49c1ba172ca6bb9dbd9f7a246a03d4ec082395"
  },
  "kernelspec": {
   "display_name": "Python 3.10.2 64-bit",
   "language": "python",
   "name": "python3"
  },
  "language_info": {
   "codemirror_mode": {
    "name": "ipython",
    "version": 3
   },
   "file_extension": ".py",
   "mimetype": "text/x-python",
   "name": "python",
   "nbconvert_exporter": "python",
   "pygments_lexer": "ipython3",
   "version": "3.10.2"
  },
  "orig_nbformat": 4
 },
 "nbformat": 4,
 "nbformat_minor": 2
}
