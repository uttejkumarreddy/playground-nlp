{
 "cells": [
  {
   "cell_type": "code",
   "execution_count": 46,
   "metadata": {},
   "outputs": [],
   "source": [
    "# Connect to Twitter using Twitter API\n",
    "\n",
    "import configparser\n",
    "\n",
    "# Get Twitter API credentials\n",
    "parser = configparser.ConfigParser(interpolation = None)\n",
    "parser.read('configurations.ini')\n",
    "\n",
    "bearerToken  = parser['DEFAULT']['BEARER_TOKEN']"
   ]
  },
  {
   "cell_type": "code",
   "execution_count": 64,
   "metadata": {},
   "outputs": [],
   "source": [
    "# Set authentication\n",
    "\n",
    "import tweepy\n",
    "\n",
    "client = tweepy.Client(bearer_token = bearerToken)"
   ]
  },
  {
   "cell_type": "code",
   "execution_count": 89,
   "metadata": {},
   "outputs": [],
   "source": [
    "# Get 500 tweets from Coco-cola's twitter account\n",
    "cocacolaID = '26787673'\n",
    "\n",
    "response = tweepy.Paginator(\n",
    "  client.get_users_tweets,\n",
    "  id = cocacolaID,\n",
    "  exclude = [\"retweets\", \"replies\"],\n",
    "  max_results = max_results).flatten(limit = max_tweets)\n",
    "\n",
    "tweets = []\n",
    "for tweet in response:\n",
    "  tweets.append(tweet.text)"
   ]
  },
  {
   "cell_type": "code",
   "execution_count": 91,
   "metadata": {},
   "outputs": [],
   "source": [
    "# Create a dataframe\n",
    "\n",
    "import pandas as pd\n",
    "\n",
    "df = pd.DataFrame(tweets, columns = ['Tweets'])\n",
    "df.to_excel('01-data-collection-output.xlsx')"
   ]
  }
 ],
 "metadata": {
  "interpreter": {
   "hash": "c94757ff29ceb470eea80031cf49c1ba172ca6bb9dbd9f7a246a03d4ec082395"
  },
  "kernelspec": {
   "display_name": "Python 3.10.2 64-bit",
   "language": "python",
   "name": "python3"
  },
  "language_info": {
   "codemirror_mode": {
    "name": "ipython",
    "version": 3
   },
   "file_extension": ".py",
   "mimetype": "text/x-python",
   "name": "python",
   "nbconvert_exporter": "python",
   "pygments_lexer": "ipython3",
   "version": "3.10.2"
  },
  "orig_nbformat": 4
 },
 "nbformat": 4,
 "nbformat_minor": 2
}
